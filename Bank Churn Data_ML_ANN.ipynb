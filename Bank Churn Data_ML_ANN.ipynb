{
 "cells": [
  {
   "cell_type": "code",
   "execution_count": 1,
   "id": "c043988a",
   "metadata": {},
   "outputs": [],
   "source": [
    "import numpy as np\n",
    "import pandas as pd\n",
    "import matplotlib.pyplot as plt\n",
    "import seaborn as sns\n",
    "%matplotlib inline"
   ]
  },
  {
   "cell_type": "code",
   "execution_count": 2,
   "id": "88a9d723",
   "metadata": {},
   "outputs": [],
   "source": [
    "#pip install keras\n",
    "#pip install google\n",
    "#pip install tensorflow"
   ]
  },
  {
   "cell_type": "code",
   "execution_count": 29,
   "id": "30baae21",
   "metadata": {},
   "outputs": [],
   "source": [
    "from sklearn.model_selection import train_test_split\n",
    "from sklearn.preprocessing import StandardScaler\n",
    "from sklearn.metrics import roc_auc_score\n",
    "from keras.models import Sequential\n",
    "from keras.layers import Dense\n",
    "from tensorflow.keras import optimizers"
   ]
  },
  {
   "cell_type": "markdown",
   "id": "30452851",
   "metadata": {},
   "source": [
    "### Datasets"
   ]
  },
  {
   "cell_type": "code",
   "execution_count": 4,
   "id": "ca37fb1b",
   "metadata": {},
   "outputs": [],
   "source": [
    "Bank = pd.read_csv('C:/Users/Nithin/Downloads/HR_ANN/Churn_Modelling.csv')"
   ]
  },
  {
   "cell_type": "markdown",
   "id": "f597e8dd",
   "metadata": {},
   "source": [
    "### Data Prep"
   ]
  },
  {
   "cell_type": "code",
   "execution_count": 5,
   "id": "c51bf140",
   "metadata": {},
   "outputs": [
    {
     "name": "stdout",
     "output_type": "stream",
     "text": [
      "<class 'pandas.core.frame.DataFrame'>\n",
      "RangeIndex: 10000 entries, 0 to 9999\n",
      "Data columns (total 14 columns):\n",
      " #   Column           Non-Null Count  Dtype  \n",
      "---  ------           --------------  -----  \n",
      " 0   RowNumber        10000 non-null  int64  \n",
      " 1   CustomerId       10000 non-null  int64  \n",
      " 2   Surname          10000 non-null  object \n",
      " 3   CreditScore      10000 non-null  int64  \n",
      " 4   Geography        10000 non-null  object \n",
      " 5   Gender           10000 non-null  object \n",
      " 6   Age              10000 non-null  int64  \n",
      " 7   Tenure           10000 non-null  int64  \n",
      " 8   Balance          10000 non-null  float64\n",
      " 9   NumOfProducts    10000 non-null  int64  \n",
      " 10  HasCrCard        10000 non-null  int64  \n",
      " 11  IsActiveMember   10000 non-null  int64  \n",
      " 12  EstimatedSalary  10000 non-null  float64\n",
      " 13  Exited           10000 non-null  int64  \n",
      "dtypes: float64(2), int64(9), object(3)\n",
      "memory usage: 1.1+ MB\n"
     ]
    }
   ],
   "source": [
    "Bank.info()"
   ]
  },
  {
   "cell_type": "code",
   "execution_count": 6,
   "id": "c09f85af",
   "metadata": {},
   "outputs": [
    {
     "data": {
      "text/plain": [
       "RowNumber          0\n",
       "CustomerId         0\n",
       "Surname            0\n",
       "CreditScore        0\n",
       "Geography          0\n",
       "Gender             0\n",
       "Age                0\n",
       "Tenure             0\n",
       "Balance            0\n",
       "NumOfProducts      0\n",
       "HasCrCard          0\n",
       "IsActiveMember     0\n",
       "EstimatedSalary    0\n",
       "Exited             0\n",
       "dtype: int64"
      ]
     },
     "execution_count": 6,
     "metadata": {},
     "output_type": "execute_result"
    }
   ],
   "source": [
    "Bank.isna().sum()"
   ]
  },
  {
   "cell_type": "code",
   "execution_count": 7,
   "id": "e3ee86fc",
   "metadata": {},
   "outputs": [],
   "source": [
    "#Drop Category\n",
    "Bank.drop(columns= ['Geography','Gender'],axis = 1,inplace=True)"
   ]
  },
  {
   "cell_type": "markdown",
   "id": "ef8f233b",
   "metadata": {},
   "source": [
    "### Train & Test Model"
   ]
  },
  {
   "cell_type": "code",
   "execution_count": 8,
   "id": "8e5c4fe7",
   "metadata": {},
   "outputs": [],
   "source": [
    "feat = ['CreditScore', 'Age', 'Tenure',\n",
    "       'Balance', 'NumOfProducts', 'HasCrCard', 'IsActiveMember',\n",
    "       'EstimatedSalary']"
   ]
  },
  {
   "cell_type": "code",
   "execution_count": 9,
   "id": "bfe3611e",
   "metadata": {},
   "outputs": [],
   "source": [
    "train_x,test_x,train_y,test_y = train_test_split(Bank[feat].values,Bank['Exited'].values,test_size=0.2,random_state=12345)"
   ]
  },
  {
   "cell_type": "markdown",
   "id": "34e898ba",
   "metadata": {},
   "source": [
    "### Model"
   ]
  },
  {
   "cell_type": "code",
   "execution_count": 10,
   "id": "44eb95ef",
   "metadata": {},
   "outputs": [
    {
     "data": {
      "text/plain": [
       "StandardScaler()"
      ]
     },
     "execution_count": 10,
     "metadata": {},
     "output_type": "execute_result"
    }
   ],
   "source": [
    "SC = StandardScaler()\n",
    "\n",
    "SC.fit(train_x)"
   ]
  },
  {
   "cell_type": "code",
   "execution_count": 11,
   "id": "86039743",
   "metadata": {},
   "outputs": [],
   "source": [
    "train_x = SC.transform(train_x)\n",
    "test_x = SC.transform(test_x)"
   ]
  },
  {
   "cell_type": "code",
   "execution_count": 12,
   "id": "9b0c4c6f",
   "metadata": {},
   "outputs": [
    {
     "data": {
      "text/plain": [
       "(8000, 8)"
      ]
     },
     "execution_count": 12,
     "metadata": {},
     "output_type": "execute_result"
    }
   ],
   "source": [
    "train_x.shape"
   ]
  },
  {
   "cell_type": "code",
   "execution_count": 21,
   "id": "efdcb2c8",
   "metadata": {},
   "outputs": [],
   "source": [
    "#Initialise\n",
    "\n",
    "classifier = Sequential()"
   ]
  },
  {
   "cell_type": "code",
   "execution_count": 23,
   "id": "17a0b69a",
   "metadata": {},
   "outputs": [],
   "source": [
    "#Architechture\n",
    "\n",
    "# Adding the input layer and the first hidden layer\n",
    "classifier.add(Dense(units = 6,activation = 'relu', input_dim = 8))\n",
    "\n",
    "# Adding the second hidden layer\n",
    "classifier.add(Dense(units = 6,activation = 'relu'))\n",
    "\n",
    "# Adding the output layer\n",
    "classifier.add(Dense(units = 1,activation = 'sigmoid'))"
   ]
  },
  {
   "cell_type": "code",
   "execution_count": 25,
   "id": "f90d7b52",
   "metadata": {},
   "outputs": [
    {
     "name": "stdout",
     "output_type": "stream",
     "text": [
      "Model: \"sequential_1\"\n",
      "_________________________________________________________________\n",
      " Layer (type)                Output Shape              Param #   \n",
      "=================================================================\n",
      " dense_3 (Dense)             (None, 6)                 54        \n",
      "                                                                 \n",
      " dense_4 (Dense)             (None, 6)                 42        \n",
      "                                                                 \n",
      " dense_5 (Dense)             (None, 1)                 7         \n",
      "                                                                 \n",
      "=================================================================\n",
      "Total params: 103\n",
      "Trainable params: 103\n",
      "Non-trainable params: 0\n",
      "_________________________________________________________________\n"
     ]
    }
   ],
   "source": [
    "#Compilation\n",
    "\n",
    "classifier.compile(optimizer='adam', loss='binary_crossentropy', metrics=['accuracy'])\n",
    "\n",
    "classifier.summary()"
   ]
  },
  {
   "cell_type": "code",
   "execution_count": 26,
   "id": "3fb964d5",
   "metadata": {},
   "outputs": [
    {
     "name": "stdout",
     "output_type": "stream",
     "text": [
      "Epoch 1/10\n",
      "800/800 [==============================] - 5s 2ms/step - loss: 0.5246 - accuracy: 0.7915\n",
      "Epoch 2/10\n",
      "800/800 [==============================] - 1s 2ms/step - loss: 0.4529 - accuracy: 0.7987\n",
      "Epoch 3/10\n",
      "800/800 [==============================] - 1s 2ms/step - loss: 0.4369 - accuracy: 0.7987\n",
      "Epoch 4/10\n",
      "800/800 [==============================] - 1s 2ms/step - loss: 0.4269 - accuracy: 0.7987\n",
      "Epoch 5/10\n",
      "800/800 [==============================] - 1s 2ms/step - loss: 0.4162 - accuracy: 0.8021\n",
      "Epoch 6/10\n",
      "800/800 [==============================] - 1s 2ms/step - loss: 0.4061 - accuracy: 0.8306\n",
      "Epoch 7/10\n",
      "800/800 [==============================] - 1s 2ms/step - loss: 0.3973 - accuracy: 0.8379\n",
      "Epoch 8/10\n",
      "800/800 [==============================] - 1s 2ms/step - loss: 0.3872 - accuracy: 0.8434\n",
      "Epoch 9/10\n",
      "800/800 [==============================] - 1s 2ms/step - loss: 0.3783 - accuracy: 0.8484\n",
      "Epoch 10/10\n",
      "800/800 [==============================] - 1s 2ms/step - loss: 0.3713 - accuracy: 0.8541\n"
     ]
    },
    {
     "data": {
      "text/plain": [
       "<keras.callbacks.History at 0x1daacc4e2e0>"
      ]
     },
     "execution_count": 26,
     "metadata": {},
     "output_type": "execute_result"
    }
   ],
   "source": [
    "#Fitting Model\n",
    "\n",
    "classifier.fit(train_x, train_y, batch_size=10, epochs = 10)"
   ]
  },
  {
   "cell_type": "markdown",
   "id": "aa48e4d9",
   "metadata": {},
   "source": [
    "### Evaluation Metrics"
   ]
  },
  {
   "cell_type": "code",
   "execution_count": 27,
   "id": "774b2375",
   "metadata": {},
   "outputs": [
    {
     "name": "stdout",
     "output_type": "stream",
     "text": [
      "63/63 [==============================] - 0s 1ms/step\n"
     ]
    }
   ],
   "source": [
    "y_pred = classifier.predict(test_x)"
   ]
  },
  {
   "cell_type": "code",
   "execution_count": 31,
   "id": "aee0cb70",
   "metadata": {},
   "outputs": [
    {
     "data": {
      "text/plain": [
       "0.84"
      ]
     },
     "execution_count": 31,
     "metadata": {},
     "output_type": "execute_result"
    }
   ],
   "source": [
    "roc_auc_score(test_y,y_pred).round(2)"
   ]
  }
 ],
 "metadata": {
  "kernelspec": {
   "display_name": "Python 3 (ipykernel)",
   "language": "python",
   "name": "python3"
  },
  "language_info": {
   "codemirror_mode": {
    "name": "ipython",
    "version": 3
   },
   "file_extension": ".py",
   "mimetype": "text/x-python",
   "name": "python",
   "nbconvert_exporter": "python",
   "pygments_lexer": "ipython3",
   "version": "3.9.7"
  }
 },
 "nbformat": 4,
 "nbformat_minor": 5
}
